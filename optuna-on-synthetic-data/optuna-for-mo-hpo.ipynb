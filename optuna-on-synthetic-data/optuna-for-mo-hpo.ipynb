{
 "cells": [
  {
   "cell_type": "markdown",
   "id": "western-salmon",
   "metadata": {},
   "source": [
    "# Multi-objective hyperparameter optimization with Optuna on a synthetic dataset"
   ]
  },
  {
   "cell_type": "markdown",
   "id": "62cffd01",
   "metadata": {},
   "source": [
    "Welcome! This notebook walks through a minimal example of multi-objective hyperparameter optimization using the [Optuna](https://optuna.readthedocs.io/en/stable/index.html#) automatic hyperparameter optimization framework.  \n",
    "\n",
    "First, we need something to learn, so we'll generate a small, toy classification problem. We'll define the metrics we care about: the area under the ROC curve, and prediction latency. Then, we'll use the expected hypervolume improvement (EHVI) to find the Pareto frontier of points that maximize these objectives.\n",
    "\n",
    "\n",
    "While the official [Multi-Objective Optimization with Optuna](https://optuna.readthedocs.io/en/stable/tutorial/20_recipes/002_multi_objective.html#sphx-glr-tutorial-20-recipes-002-multi-objective-py) tutorial provides a fantastic example for PyTorch models, here we demonstrate how to use Optuna with scikit-learn and include a comparison with random sampling for hyperparameter optimization."
   ]
  },
  {
   "cell_type": "markdown",
   "id": "743790c8",
   "metadata": {},
   "source": [
    "## Setup\n",
    "\n",
    "If you already took a look at our tutorial on using [Ax for HPO](https://github.com/fastforwardlabs/multi-objective-hyperparameter-optimization/tree/master/ax-on-synthetic-data) you'll notice Optuna requires only a single import!"
   ]
  },
  {
   "cell_type": "code",
   "execution_count": 1,
   "id": "convinced-strip",
   "metadata": {},
   "outputs": [],
   "source": [
    "import pickle\n",
    "import sys\n",
    "import time\n",
    "import warnings\n",
    "\n",
    "import matplotlib.pyplot as plt\n",
    "import numpy as np\n",
    "import optuna\n",
    "import pandas as pd\n",
    "\n",
    "from sklearn.datasets import make_classification\n",
    "from sklearn.metrics import roc_auc_score\n",
    "from sklearn.model_selection import train_test_split\n",
    "from sklearn.neural_network import MLPClassifier\n",
    "from sklearn.pipeline import Pipeline\n",
    "from sklearn.preprocessing import StandardScaler"
   ]
  },
  {
   "cell_type": "markdown",
   "id": "711a6599",
   "metadata": {},
   "source": [
    "## Data\n",
    "\n",
    "Let's generate a classification problem. `sklearn` has a helper for that. The exact parameters aren't too important! In this notebook, we really just want to explore how to use Optuna for multi-objective hyperparameter optimization."
   ]
  },
  {
   "cell_type": "markdown",
   "id": "forced-combining",
   "metadata": {},
   "source": [
    "First, we must generate some data, and divide it into a train and development set. We'll train each model on the train set, then "
   ]
  },
  {
   "cell_type": "code",
   "execution_count": 2,
   "id": "burning-interface",
   "metadata": {},
   "outputs": [],
   "source": [
    "X, y = make_classification(n_samples=1000, n_features=40, n_informative=20)"
   ]
  },
  {
   "cell_type": "markdown",
   "id": "3e0d5191",
   "metadata": {},
   "source": [
    "We'll make an 80/20 split and use the larger portion for training, and the smaller portion for evaluation. If the algorithm we trained was going to be used, we'd want a third split to report our final metrics on. As is, we might risk overfitting the hyperparameters to the dev set across many trials. To avoid tripling (or more) the run time, we'll skip cross-validation and simply train each algorithm on the train set, and evaluate on dev. We could get a more robust measure of the metrics associated with each hyperparameter configuration by cross-validating each trial."
   ]
  },
  {
   "cell_type": "code",
   "execution_count": 3,
   "id": "pending-thriller",
   "metadata": {},
   "outputs": [],
   "source": [
    "X_train, X_dev, y_train, y_dev = train_test_split(X, y, test_size=0.2, shuffle=True, stratify=y)"
   ]
  },
  {
   "cell_type": "markdown",
   "id": "aaeaa79f",
   "metadata": {},
   "source": [
    "## Optimization objectives\n",
    "\n",
    "Let's say we care about two objectives: the area under the ROC curve (AUC), and latency. AUC captures the quality of a classifier in a threshold-independent way, and is appropriate for the balanced class distribution we have in our toy problem. By optimizing for this, we're finding a good classifier without making a decision about how bad each flavour of misclassification (false positives and false negatives) are, whereas optimizing for a point metric like accuracy directly would be making that call. Latency measures how long a prediction takes. As it turns out, with the scikit-learn multi-layer perceptron model we'll use, not very long. To help smooth out noise in the latency measurement, we'll measure the time required to predict on a batch of a million points.\n",
    "\n",
    "This will be a small model, and no GPU is used. If we were using a GPU-enabled framework (like PyTorch, TensorFlow, or Jax), we'd need to be a little more careful about how we measure latency (another option is presented in the official Optuna tutorial). Also note that in most applications, we'd probably be more interested in the total response time of a model end point, or the total processing time for a large batch of offline predictions, and it's not necessarily the case that the actual model prediction time is the dominant bottleneck to those things at all!"
   ]
  },
  {
   "cell_type": "code",
   "execution_count": 4,
   "id": "fa5ec30f",
   "metadata": {},
   "outputs": [],
   "source": [
    "million_points = np.repeat(X, 1000, axis=0)"
   ]
  },
  {
   "cell_type": "code",
   "execution_count": 5,
   "id": "biological-travel",
   "metadata": {},
   "outputs": [],
   "source": [
    "def roc(model, X, y):\n",
    "    return roc_auc_score(y, model.predict(X))\n",
    "\n",
    "def latency(model, X):\n",
    "    start = time.time()\n",
    "    model.predict(X)\n",
    "    end = time.time()\n",
    "    return end - start"
   ]
  },
  {
   "cell_type": "markdown",
   "id": "pretty-function",
   "metadata": {},
   "source": [
    "We define a training routine and compute the objectives. The search space for scikit-learn's `MLPClassifier` is roughly the same as that in [Multi-objective multi-fidelity hyperparameter optimization with application to fairness](https://www.amazon.science/publications/multi-objective-multi-fidelity-hyperparameter-optimization-with-application-to-fairness). Notice that this is a tricky search space! We allow up to three layers in the network, and we only want to sample a layer size for those layers that exist. This means `layer_size` is dependent on `n_layers`. Thankfully, Optuna naturally lends itself to hierarchical search spaces like this because it dynamically constructs the hyperparameter search space for each trial (however, this comes with a drawback as we'll see shortly).  "
   ]
  },
  {
   "cell_type": "code",
   "execution_count": 6,
   "id": "19059dad",
   "metadata": {},
   "outputs": [],
   "source": [
    "def train(trial):    \n",
    "    hidden_layer_sizes = [\n",
    "        trial.suggest_int(f\"layer_{layer+1}_size\", 2, 50)\n",
    "        for layer in range(trial.suggest_int(\"n_layers\", 1, 3))\n",
    "    ]\n",
    "    \n",
    "    pipeline = Pipeline([\n",
    "        (\"scaler\", StandardScaler()),\n",
    "        (\"mlp\", MLPClassifier(\n",
    "            solver=\"adam\",\n",
    "            hidden_layer_sizes=hidden_layer_sizes,\n",
    "            alpha=trial.suggest_float(\"alpha\", 1e-6, 1.0, log=True),\n",
    "            tol=trial.suggest_float(\"tol\", 1e-5, 1.0, log=True),\n",
    "            beta_1=trial.suggest_float(\"beta_1\", 0.001, 0.99),\n",
    "            beta_2=trial.suggest_float(\"beta_2\", 0.001, 0.99),\n",
    "            learning_rate_init=trial.suggest_float(\"learning_rate_init\", 1e-6, 1e-1, log=True)\n",
    "        ))\n",
    "    ])\n",
    "    \n",
    "    pipeline.fit(X_train, y_train)\n",
    "    auc = roc(pipeline, X_dev, y_dev)\n",
    "    lat = latency(pipeline, million_points)\n",
    "\n",
    "    return auc, lat"
   ]
  },
  {
   "cell_type": "markdown",
   "id": "6834a337",
   "metadata": {},
   "source": [
    "## Experiment setup\n",
    "\n",
    "We'll run two hyperparameter searches: one using the expected hypervolume improvement (EHVI), and another with pseudo-random sampling for comparison. Optuna initializes the EHVI model for generating new hyperparameter configs with a few random points before performing a fixed number of trials, a process that is performed automatically under-the-hood. "
   ]
  },
  {
   "cell_type": "code",
   "execution_count": 7,
   "id": "local-breakfast",
   "metadata": {},
   "outputs": [],
   "source": [
    "N_TRIAL = 55  # number of trials to run after initialization"
   ]
  },
  {
   "cell_type": "markdown",
   "id": "6ac8104d",
   "metadata": {},
   "source": [
    "We're just about ready to cleverly optimize our hyperparameters. For this experiment we'll use the MOTPE algorithm detailed in [Multiobjective tree-structured parzen estimator for computationally expensive optimization problems](https://dl.acm.org/doi/10.1145/3377930.3389817). This algorithm uses tree-structured parzen estimators as the surrogate function and EHVI as the acquisition function. We explained how these algorithms work in [Exploring Multi-Objective Hyperparameter Optimization](https://blog.fastforwardlabs.com/2021/07/07/exploring-multi-objective-hyperparameter-optimization.html). In a nutshell, we create a model that takes hyperparameters as inputs and predicts the resultant optimization objectives as outputs. We use this model to find the input hyperparameter combination that will most improve the hypervolume thus expanding the Pareto frontier. Then, we try that hyperparameter config, generating a new data point with which to improve our model, and loop this whole procedure `N_TRIAL` times."
   ]
  },
  {
   "cell_type": "code",
   "execution_count": 8,
   "id": "generous-habitat",
   "metadata": {
    "scrolled": true
   },
   "outputs": [
    {
     "name": "stderr",
     "output_type": "stream",
     "text": [
      "<ipython-input-8-88b9b9235eb2>:1: ExperimentalWarning: MOTPESampler is experimental (supported from v2.4.0). The interface can change in the future.\n",
      "  motpe_sampler = optuna.samplers.MOTPESampler()\n",
      "\u001b[32m[I 2021-06-24 13:33:08,291]\u001b[0m A new study created in memory with name: no-name-2683aec9-a927-43aa-a061-b67e320433a8\u001b[0m\n",
      "\u001b[32m[I 2021-06-24 13:33:09,437]\u001b[0m Trial 0 finished with values: [0.8450000000000001, 0.8262290954589844] and parameters: {'n_layers': 3, 'layer_1_size': 5, 'layer_2_size': 46, 'layer_3_size': 41, 'alpha': 9.16429681464628e-06, 'tol': 4.4073149861688505e-05, 'beta_1': 0.34931254944477413, 'beta_2': 0.9232175410049337, 'learning_rate_init': 0.011713650842477602}. \u001b[0m\n",
      "\u001b[32m[I 2021-06-24 13:33:10,384]\u001b[0m Trial 1 finished with values: [0.8999999999999999, 0.8827610015869141] and parameters: {'n_layers': 3, 'layer_1_size': 47, 'layer_2_size': 30, 'layer_3_size': 33, 'alpha': 0.000497863420997646, 'tol': 0.042431076986822885, 'beta_1': 0.40591916231423836, 'beta_2': 0.409687630011716, 'learning_rate_init': 0.012091492235530358}. \u001b[0m\n",
      "/opt/anaconda3/envs/hpo/lib/python3.9/site-packages/sklearn/neural_network/_multilayer_perceptron.py:582: ConvergenceWarning: Stochastic Optimizer: Maximum iterations (200) reached and the optimization hasn't converged yet.\n",
      "  warnings.warn(\n",
      "\u001b[32m[I 2021-06-24 13:33:11,313]\u001b[0m Trial 2 finished with values: [0.895, 0.48149800300598145] and parameters: {'n_layers': 2, 'layer_1_size': 30, 'layer_2_size': 3, 'alpha': 3.038276168745543e-05, 'tol': 3.1396224961989394e-05, 'beta_1': 0.5517188842437748, 'beta_2': 0.006529385036930512, 'learning_rate_init': 0.00041299273929972354}. \u001b[0m\n",
      "\u001b[32m[I 2021-06-24 13:33:11,688]\u001b[0m Trial 3 finished with values: [0.47500000000000003, 0.35079503059387207] and parameters: {'n_layers': 1, 'layer_1_size': 10, 'alpha': 0.007869345652559853, 'tol': 5.497102524380759e-05, 'beta_1': 0.25209991704021734, 'beta_2': 0.10238799967205169, 'learning_rate_init': 1.3432997566445058e-06}. \u001b[0m\n",
      "/opt/anaconda3/envs/hpo/lib/python3.9/site-packages/sklearn/neural_network/_multilayer_perceptron.py:582: ConvergenceWarning: Stochastic Optimizer: Maximum iterations (200) reached and the optimization hasn't converged yet.\n",
      "  warnings.warn(\n",
      "\u001b[32m[I 2021-06-24 13:33:13,005]\u001b[0m Trial 4 finished with values: [0.7350000000000001, 0.6523792743682861] and parameters: {'n_layers': 3, 'layer_1_size': 23, 'layer_2_size': 24, 'layer_3_size': 2, 'alpha': 0.00013963220952780344, 'tol': 2.1064664725154894e-05, 'beta_1': 0.9683884641443996, 'beta_2': 0.7395920927717222, 'learning_rate_init': 0.00010157408120893174}. \u001b[0m\n",
      "\u001b[32m[I 2021-06-24 13:33:13,674]\u001b[0m Trial 5 finished with values: [0.7050000000000001, 0.6269810199737549] and parameters: {'n_layers': 3, 'layer_1_size': 3, 'layer_2_size': 4, 'layer_3_size': 39, 'alpha': 2.6574599948815355e-05, 'tol': 0.09692403417909953, 'beta_1': 0.6617988223501713, 'beta_2': 0.7718478809362541, 'learning_rate_init': 0.0038072027111208037}. \u001b[0m\n",
      "\u001b[32m[I 2021-06-24 13:33:14,526]\u001b[0m Trial 6 finished with values: [0.905, 0.8008348941802979] and parameters: {'n_layers': 3, 'layer_1_size': 28, 'layer_2_size': 20, 'layer_3_size': 41, 'alpha': 0.02604155204819618, 'tol': 0.2150534277233646, 'beta_1': 0.6584798756571555, 'beta_2': 0.1763795518854328, 'learning_rate_init': 0.07963358328379677}. \u001b[0m\n",
      "\u001b[32m[I 2021-06-24 13:33:16,180]\u001b[0m Trial 7 finished with values: [0.885, 0.8790798187255859] and parameters: {'n_layers': 3, 'layer_1_size': 29, 'layer_2_size': 35, 'layer_3_size': 46, 'alpha': 4.543994517425308e-06, 'tol': 0.00011916514693828936, 'beta_1': 0.919988728094854, 'beta_2': 0.7743257374553468, 'learning_rate_init': 0.0003861316703292381}. \u001b[0m\n",
      "\u001b[32m[I 2021-06-24 13:33:16,977]\u001b[0m Trial 8 finished with values: [0.915, 0.7575907707214355] and parameters: {'n_layers': 2, 'layer_1_size': 38, 'layer_2_size': 45, 'alpha': 0.013560034935590921, 'tol': 0.6685371542516644, 'beta_1': 0.128661020423243, 'beta_2': 0.7201105780751946, 'learning_rate_init': 0.014071036028619628}. \u001b[0m\n",
      "\u001b[32m[I 2021-06-24 13:33:17,654]\u001b[0m Trial 9 finished with values: [0.915, 0.6342971324920654] and parameters: {'n_layers': 2, 'layer_1_size': 39, 'layer_2_size': 22, 'alpha': 0.17594677971231898, 'tol': 0.07035694001328437, 'beta_1': 0.36351333637023076, 'beta_2': 0.4178716102505961, 'learning_rate_init': 0.06040958609329022}. \u001b[0m\n",
      "\u001b[32m[I 2021-06-24 13:33:18,097]\u001b[0m Trial 10 finished with values: [0.52, 0.39836716651916504] and parameters: {'n_layers': 1, 'layer_1_size': 19, 'alpha': 1.3259685116626232e-06, 'tol': 0.0011323507429594967, 'beta_1': 0.655247094910459, 'beta_2': 0.24771477428955968, 'learning_rate_init': 2.706540462517576e-06}. \u001b[0m\n",
      "\u001b[32m[I 2021-06-24 13:33:18,696]\u001b[0m Trial 11 finished with values: [0.6000000000000001, 0.5507080554962158] and parameters: {'n_layers': 1, 'layer_1_size': 45, 'alpha': 0.00011268199542449281, 'tol': 0.0008452694354531599, 'beta_1': 0.013412735810499676, 'beta_2': 0.0017106012447751428, 'learning_rate_init': 2.0613948526760165e-05}. \u001b[0m\n",
      "\u001b[32m[I 2021-06-24 13:33:19,184]\u001b[0m Trial 12 finished with values: [0.5399999999999999, 0.43607306480407715] and parameters: {'n_layers': 2, 'layer_1_size': 15, 'layer_2_size': 7, 'alpha': 0.0013069810733212196, 'tol': 0.012218925536263683, 'beta_1': 0.8113858645642817, 'beta_2': 0.005957308012763156, 'learning_rate_init': 0.000286682371770664}. \u001b[0m\n",
      "/opt/anaconda3/envs/hpo/lib/python3.9/site-packages/sklearn/neural_network/_multilayer_perceptron.py:582: ConvergenceWarning: Stochastic Optimizer: Maximum iterations (200) reached and the optimization hasn't converged yet.\n",
      "  warnings.warn(\n",
      "\u001b[32m[I 2021-06-24 13:33:20,086]\u001b[0m Trial 13 finished with values: [0.515, 0.47922420501708984] and parameters: {'n_layers': 1, 'layer_1_size': 34, 'alpha': 0.8519578187834544, 'tol': 1.1180861407790612e-05, 'beta_1': 0.5032659400449669, 'beta_2': 0.5439709434541915, 'learning_rate_init': 1.227166430077063e-05}. \u001b[0m\n",
      "\u001b[32m[I 2021-06-24 13:33:20,987]\u001b[0m Trial 14 finished with values: [0.885, 0.44770359992980957] and parameters: {'n_layers': 2, 'layer_1_size': 14, 'layer_2_size': 12, 'alpha': 1.0070144695138192e-06, 'tol': 0.00021423679915695925, 'beta_1': 0.02080658390365603, 'beta_2': 0.3079751855846036, 'learning_rate_init': 0.001335813224383925}. \u001b[0m\n",
      "\u001b[32m[I 2021-06-24 13:33:21,657]\u001b[0m Trial 15 finished with values: [0.9049999999999999, 0.36991095542907715] and parameters: {'n_layers': 1, 'layer_1_size': 12, 'alpha': 1.2419811704953315e-06, 'tol': 0.00025782422258097115, 'beta_1': 0.04915900647234839, 'beta_2': 0.2638688161574923, 'learning_rate_init': 0.003092165834130955}. \u001b[0m\n",
      "\u001b[32m[I 2021-06-24 13:33:22,093]\u001b[0m Trial 16 finished with values: [0.8499999999999999, 0.35782790184020996] and parameters: {'n_layers': 1, 'layer_1_size': 9, 'alpha': 0.0014466206582471482, 'tol': 0.008382379738575741, 'beta_1': 0.19066504937732265, 'beta_2': 0.5436387490435325, 'learning_rate_init': 0.0018505858034919347}. \u001b[0m\n",
      "/opt/anaconda3/envs/hpo/lib/python3.9/site-packages/sklearn/neural_network/_multilayer_perceptron.py:582: ConvergenceWarning: Stochastic Optimizer: Maximum iterations (200) reached and the optimization hasn't converged yet.\n",
      "  warnings.warn(\n",
      "\u001b[32m[I 2021-06-24 13:33:22,881]\u001b[0m Trial 17 finished with values: [0.7300000000000001, 0.41161584854125977] and parameters: {'n_layers': 1, 'layer_1_size': 20, 'alpha': 3.412151537229594e-06, 'tol': 0.0005601470062129255, 'beta_1': 0.03360345505593364, 'beta_2': 0.32346359272864006, 'learning_rate_init': 7.024964062852993e-05}. \u001b[0m\n",
      "\u001b[32m[I 2021-06-24 13:33:23,254]\u001b[0m Trial 18 finished with values: [0.875, 0.3131232261657715] and parameters: {'n_layers': 1, 'layer_1_size': 2, 'alpha': 0.10160335653501168, 'tol': 0.003295747559005705, 'beta_1': 0.12973937149022546, 'beta_2': 0.12144622926630172, 'learning_rate_init': 0.03764977876147358}. \u001b[0m\n",
      "\u001b[32m[I 2021-06-24 13:33:23,907]\u001b[0m Trial 19 finished with values: [0.9049999999999999, 0.3615438938140869] and parameters: {'n_layers': 1, 'layer_1_size': 8, 'alpha': 0.00021230857347505363, 'tol': 0.00020666539188587117, 'beta_1': 0.27026240461197854, 'beta_2': 0.6340047740691164, 'learning_rate_init': 0.0036611758781709856}. \u001b[0m\n",
      "\u001b[32m[I 2021-06-24 13:33:24,297]\u001b[0m Trial 20 finished with values: [0.875, 0.3256676197052002] and parameters: {'n_layers': 1, 'layer_1_size': 2, 'alpha': 0.09688235880484591, 'tol': 0.003715321559537017, 'beta_1': 0.26116708187883253, 'beta_2': 0.9873796201507512, 'learning_rate_init': 0.045297031815301134}. \u001b[0m\n"
     ]
    },
    {
     "name": "stderr",
     "output_type": "stream",
     "text": [
      "\u001b[32m[I 2021-06-24 13:33:24,682]\u001b[0m Trial 21 finished with values: [0.8900000000000001, 0.34682798385620117] and parameters: {'n_layers': 1, 'layer_1_size': 7, 'alpha': 0.4220468928331617, 'tol': 0.9205855947906584, 'beta_1': 0.1355045696452603, 'beta_2': 0.12358877798741968, 'learning_rate_init': 0.026215233749186093}. \u001b[0m\n",
      "\u001b[32m[I 2021-06-24 13:33:25,363]\u001b[0m Trial 22 finished with values: [0.885, 0.5584681034088135] and parameters: {'n_layers': 2, 'layer_1_size': 2, 'layer_2_size': 37, 'alpha': 0.05927541209993249, 'tol': 0.0029859542692567418, 'beta_1': 0.276718698028048, 'beta_2': 0.6467856636383467, 'learning_rate_init': 0.005313774791799439}. \u001b[0m\n",
      "\u001b[32m[I 2021-06-24 13:33:25,820]\u001b[0m Trial 23 finished with values: [0.8949999999999999, 0.39627814292907715] and parameters: {'n_layers': 1, 'layer_1_size': 17, 'alpha': 0.003966062336361071, 'tol': 0.022560292596133607, 'beta_1': 0.14092242274995986, 'beta_2': 0.8719943100057457, 'learning_rate_init': 0.0773444843114371}. \u001b[0m\n",
      "\u001b[32m[I 2021-06-24 13:33:26,580]\u001b[0m Trial 24 finished with values: [0.6250000000000001, 0.6833100318908691] and parameters: {'n_layers': 2, 'layer_1_size': 8, 'layer_2_size': 50, 'alpha': 0.7108676700695464, 'tol': 0.2268470093354554, 'beta_1': 0.46008802111568425, 'beta_2': 0.41425616974036406, 'learning_rate_init': 0.0008778356686439788}. \u001b[0m\n",
      "\u001b[32m[I 2021-06-24 13:33:27,234]\u001b[0m Trial 25 finished with values: [0.92, 0.5472538471221924] and parameters: {'n_layers': 1, 'layer_1_size': 24, 'alpha': 0.2527894319467446, 'tol': 0.003817907750851227, 'beta_1': 0.2201911044553502, 'beta_2': 0.6241977351358688, 'learning_rate_init': 0.030048244665819682}. \u001b[0m\n",
      "\u001b[32m[I 2021-06-24 13:33:27,788]\u001b[0m Trial 26 finished with values: [0.885, 0.37929534912109375] and parameters: {'n_layers': 1, 'layer_1_size': 5, 'alpha': 0.04035086404093535, 'tol': 0.0015772100597426092, 'beta_1': 0.31983210103399984, 'beta_2': 0.1070563172989808, 'learning_rate_init': 0.005771575460170749}. \u001b[0m\n",
      "\u001b[32m[I 2021-06-24 13:33:28,390]\u001b[0m Trial 27 finished with values: [0.9000000000000001, 0.48125219345092773] and parameters: {'n_layers': 2, 'layer_1_size': 12, 'layer_2_size': 13, 'alpha': 0.00037381374577335043, 'tol': 0.00036803987105919495, 'beta_1': 0.11509538011805209, 'beta_2': 0.17742514744841037, 'learning_rate_init': 0.098533253291663}. \u001b[0m\n",
      "\u001b[32m[I 2021-06-24 13:33:28,860]\u001b[0m Trial 28 finished with values: [0.8750000000000001, 0.3381640911102295] and parameters: {'n_layers': 1, 'layer_1_size': 2, 'alpha': 0.00374876329258752, 'tol': 0.00010074420481316591, 'beta_1': 0.09386371352016509, 'beta_2': 0.49437870204785506, 'learning_rate_init': 0.020107037225897507}. \u001b[0m\n",
      "\u001b[32m[I 2021-06-24 13:33:29,701]\u001b[0m Trial 29 finished with values: [0.8499999999999999, 0.49644994735717773] and parameters: {'n_layers': 2, 'layer_1_size': 6, 'layer_2_size': 16, 'alpha': 0.014500060798757118, 'tol': 1.4622337591523938e-05, 'beta_1': 0.586619467167693, 'beta_2': 0.3522051176460188, 'learning_rate_init': 0.006593017788231954}. \u001b[0m\n",
      "\u001b[32m[I 2021-06-24 13:33:30,272]\u001b[0m Trial 30 finished with values: [0.9000000000000001, 0.46068811416625977] and parameters: {'n_layers': 1, 'layer_1_size': 24, 'alpha': 0.3008911753048114, 'tol': 0.0033534446033679217, 'beta_1': 0.19498515264825206, 'beta_2': 0.6551011501379808, 'learning_rate_init': 0.03883702672966298}. \u001b[0m\n",
      "\u001b[32m[I 2021-06-24 13:33:30,824]\u001b[0m Trial 31 finished with values: [0.8400000000000001, 0.44289684295654297] and parameters: {'n_layers': 1, 'layer_1_size': 21, 'alpha': 9.426709413690369e-05, 'tol': 0.007162534596671162, 'beta_1': 0.20814855881268296, 'beta_2': 0.8537697992885942, 'learning_rate_init': 0.0009298636148540676}. \u001b[0m\n",
      "\u001b[32m[I 2021-06-24 13:33:31,444]\u001b[0m Trial 32 finished with values: [0.875, 0.4068598747253418] and parameters: {'n_layers': 1, 'layer_1_size': 15, 'alpha': 0.0033422210874827028, 'tol': 0.002035376572759364, 'beta_1': 0.44313630060602044, 'beta_2': 0.5778648066441404, 'learning_rate_init': 0.001888594068533848}. \u001b[0m\n",
      "\u001b[32m[I 2021-06-24 13:33:31,966]\u001b[0m Trial 33 finished with values: [0.905, 0.3877236843109131] and parameters: {'n_layers': 1, 'layer_1_size': 11, 'alpha': 0.00044803849825677996, 'tol': 0.0006915427662677004, 'beta_1': 0.3004110596555007, 'beta_2': 0.4684418682612699, 'learning_rate_init': 0.009289000014349987}. \u001b[0m\n",
      "\u001b[32m[I 2021-06-24 13:33:32,616]\u001b[0m Trial 34 finished with values: [0.9199999999999999, 0.4958219528198242] and parameters: {'n_layers': 1, 'layer_1_size': 33, 'alpha': 0.14060606614370916, 'tol': 0.00012756757439172888, 'beta_1': 0.22848912933791732, 'beta_2': 0.6545972845611261, 'learning_rate_init': 0.02580564194852311}. \u001b[0m\n",
      "/opt/anaconda3/envs/hpo/lib/python3.9/site-packages/sklearn/neural_network/_multilayer_perceptron.py:582: ConvergenceWarning: Stochastic Optimizer: Maximum iterations (200) reached and the optimization hasn't converged yet.\n",
      "  warnings.warn(\n",
      "\u001b[32m[I 2021-06-24 13:33:33,580]\u001b[0m Trial 35 finished with values: [0.855, 0.5056807994842529] and parameters: {'n_layers': 1, 'layer_1_size': 33, 'alpha': 0.0957863159183445, 'tol': 6.40874896824633e-05, 'beta_1': 0.07742991990471831, 'beta_2': 0.5998278667628184, 'learning_rate_init': 0.00011631837814581641}. \u001b[0m\n",
      "/opt/anaconda3/envs/hpo/lib/python3.9/site-packages/sklearn/neural_network/_multilayer_perceptron.py:582: ConvergenceWarning: Stochastic Optimizer: Maximum iterations (200) reached and the optimization hasn't converged yet.\n",
      "  warnings.warn(\n",
      "\u001b[32m[I 2021-06-24 13:33:34,242]\u001b[0m Trial 36 finished with values: [0.8499999999999999, 0.35098886489868164] and parameters: {'n_layers': 1, 'layer_1_size': 4, 'alpha': 2.174007603453939e-05, 'tol': 0.00015286204751364474, 'beta_1': 0.3630803156007151, 'beta_2': 0.7020282708365593, 'learning_rate_init': 0.0028755536166495056}. \u001b[0m\n",
      "\u001b[32m[I 2021-06-24 13:33:34,902]\u001b[0m Trial 37 finished with values: [0.925, 0.5387508869171143] and parameters: {'n_layers': 1, 'layer_1_size': 43, 'alpha': 6.0188742456746935e-05, 'tol': 1.0040821446288553e-05, 'beta_1': 0.1645110475891487, 'beta_2': 0.8396096082685681, 'learning_rate_init': 0.022323632177520362}. \u001b[0m\n",
      "\u001b[32m[I 2021-06-24 13:33:35,886]\u001b[0m Trial 38 finished with values: [0.9100000000000001, 0.5701723098754883] and parameters: {'n_layers': 1, 'layer_1_size': 49, 'alpha': 0.0002504621455206035, 'tol': 0.00037787339972339027, 'beta_1': 0.24273321885455418, 'beta_2': 0.4727441419986968, 'learning_rate_init': 0.0009367998241135101}. \u001b[0m\n",
      "\u001b[32m[I 2021-06-24 13:33:36,559]\u001b[0m Trial 39 finished with values: [0.92, 0.417011022567749] and parameters: {'n_layers': 1, 'layer_1_size': 18, 'alpha': 0.0010113552186004052, 'tol': 2.874829807605508e-05, 'beta_1': 0.4063875900172627, 'beta_2': 0.9828639432076915, 'learning_rate_init': 0.008797369485265938}. \u001b[0m\n",
      "\u001b[32m[I 2021-06-24 13:33:37,185]\u001b[0m Trial 40 finished with values: [0.895, 0.35930705070495605] and parameters: {'n_layers': 1, 'layer_1_size': 8, 'alpha': 0.0018696881435804787, 'tol': 2.3951945245563057e-05, 'beta_1': 0.15942601774207996, 'beta_2': 0.962166131226281, 'learning_rate_init': 0.009045721228370355}. \u001b[0m\n",
      "\u001b[32m[I 2021-06-24 13:33:37,749]\u001b[0m Trial 41 finished with values: [0.895, 0.402346134185791] and parameters: {'n_layers': 1, 'layer_1_size': 13, 'alpha': 0.000841496079462844, 'tol': 1.3934098779389252e-05, 'beta_1': 0.4421476422362953, 'beta_2': 0.8677263032426578, 'learning_rate_init': 0.017054047336829265}. \u001b[0m\n",
      "\u001b[32m[I 2021-06-24 13:33:38,224]\u001b[0m Trial 42 finished with values: [0.8799999999999999, 0.4237329959869385] and parameters: {'n_layers': 1, 'layer_1_size': 16, 'alpha': 5.031212203007172e-05, 'tol': 0.37014501349322015, 'beta_1': 0.394563833693018, 'beta_2': 0.9144650382404799, 'learning_rate_init': 0.09581970222326597}. \u001b[0m\n",
      "\u001b[32m[I 2021-06-24 13:33:38,707]\u001b[0m Trial 43 finished with values: [0.8900000000000001, 0.41590380668640137] and parameters: {'n_layers': 1, 'layer_1_size': 18, 'alpha': 0.010241939511614643, 'tol': 0.020073367917353223, 'beta_1': 0.3066851468597482, 'beta_2': 0.8020650479727522, 'learning_rate_init': 0.04059518238654081}. \u001b[0m\n",
      "/opt/anaconda3/envs/hpo/lib/python3.9/site-packages/sklearn/neural_network/_multilayer_perceptron.py:582: ConvergenceWarning: Stochastic Optimizer: Maximum iterations (200) reached and the optimization hasn't converged yet.\n",
      "  warnings.warn(\n"
     ]
    },
    {
     "name": "stderr",
     "output_type": "stream",
     "text": [
      "\u001b[32m[I 2021-06-24 13:33:39,400]\u001b[0m Trial 44 finished with values: [0.9000000000000001, 0.35135507583618164] and parameters: {'n_layers': 1, 'layer_1_size': 7, 'alpha': 1.057434176380296e-05, 'tol': 6.707959414130896e-05, 'beta_1': 0.06619735461953394, 'beta_2': 0.07107971291956858, 'learning_rate_init': 0.005405215145553146}. \u001b[0m\n",
      "\u001b[32m[I 2021-06-24 13:33:39,876]\u001b[0m Trial 45 finished with values: [0.855, 0.323167085647583] and parameters: {'n_layers': 1, 'layer_1_size': 2, 'alpha': 0.030428082581132613, 'tol': 0.00040121967401255234, 'beta_1': 0.16804638046778253, 'beta_2': 0.17554668696202536, 'learning_rate_init': 0.053521417432980556}. \u001b[0m\n",
      "\u001b[32m[I 2021-06-24 13:33:40,449]\u001b[0m Trial 46 finished with values: [0.905, 0.3662989139556885] and parameters: {'n_layers': 1, 'layer_1_size': 10, 'alpha': 0.0007266574593452988, 'tol': 1.0102977147122388e-05, 'beta_1': 0.5207391537224039, 'beta_2': 0.9804189824133966, 'learning_rate_init': 0.02066479427739678}. \u001b[0m\n",
      "/opt/anaconda3/envs/hpo/lib/python3.9/site-packages/sklearn/neural_network/_multilayer_perceptron.py:582: ConvergenceWarning: Stochastic Optimizer: Maximum iterations (200) reached and the optimization hasn't converged yet.\n",
      "  warnings.warn(\n",
      "\u001b[32m[I 2021-06-24 13:33:41,090]\u001b[0m Trial 47 finished with values: [0.86, 0.33815693855285645] and parameters: {'n_layers': 1, 'layer_1_size': 4, 'alpha': 0.00022701071230889742, 'tol': 3.279104462178131e-05, 'beta_1': 0.32499309814314714, 'beta_2': 0.04567625158109884, 'learning_rate_init': 0.002213926603840808}. \u001b[0m\n",
      "\u001b[32m[I 2021-06-24 13:33:41,680]\u001b[0m Trial 48 finished with values: [0.885, 0.33988308906555176] and parameters: {'n_layers': 1, 'layer_1_size': 6, 'alpha': 0.00669288208685084, 'tol': 0.00020846516958136562, 'beta_1': 0.7582012751216174, 'beta_2': 0.823999384021163, 'learning_rate_init': 0.007246835115820264}. \u001b[0m\n",
      "\u001b[32m[I 2021-06-24 13:33:42,158]\u001b[0m Trial 49 finished with values: [0.595, 0.42757487297058105] and parameters: {'n_layers': 1, 'layer_1_size': 22, 'alpha': 0.002129998475488314, 'tol': 0.04731180742572224, 'beta_1': 0.27401537602710013, 'beta_2': 0.24723005295855346, 'learning_rate_init': 0.0005763291625101341}. \u001b[0m\n",
      "\u001b[32m[I 2021-06-24 13:33:42,814]\u001b[0m Trial 50 finished with values: [0.9150000000000001, 0.45728302001953125] and parameters: {'n_layers': 1, 'layer_1_size': 26, 'alpha': 1.2147295649122401e-05, 'tol': 6.890273606454276e-05, 'beta_1': 0.06968907676995637, 'beta_2': 0.05971563924269985, 'learning_rate_init': 0.004955076076501721}. \u001b[0m\n",
      "\u001b[32m[I 2021-06-24 13:33:43,413]\u001b[0m Trial 51 finished with values: [0.885, 0.3462188243865967] and parameters: {'n_layers': 1, 'layer_1_size': 7, 'alpha': 6.23136574187244e-05, 'tol': 2.073288787164361e-05, 'beta_1': 0.17117034240278398, 'beta_2': 0.9185294077608815, 'learning_rate_init': 0.015402461333351382}. \u001b[0m\n",
      "\u001b[32m[I 2021-06-24 13:33:44,089]\u001b[0m Trial 52 finished with values: [0.9149999999999999, 0.5402209758758545] and parameters: {'n_layers': 1, 'layer_1_size': 44, 'alpha': 0.596170955358332, 'tol': 8.971686212973368e-05, 'beta_1': 0.40430873654327387, 'beta_2': 0.9491304935612683, 'learning_rate_init': 0.031964242108817854}. \u001b[0m\n",
      "\u001b[32m[I 2021-06-24 13:33:44,775]\u001b[0m Trial 53 finished with values: [0.9299999999999998, 0.4530980587005615] and parameters: {'n_layers': 1, 'layer_1_size': 26, 'alpha': 0.0173117951359361, 'tol': 3.065172504685016e-05, 'beta_1': 0.10385550301659174, 'beta_2': 0.3691356144401184, 'learning_rate_init': 0.010241430487373542}. \u001b[0m\n",
      "\u001b[32m[I 2021-06-24 13:33:45,151]\u001b[0m Trial 54 finished with values: [0.855, 0.3304738998413086] and parameters: {'n_layers': 1, 'layer_1_size': 4, 'alpha': 0.0690676257681989, 'tol': 0.13384722503983637, 'beta_1': 0.09983794159959614, 'beta_2': 0.20509124886831753, 'learning_rate_init': 0.06607301485521548}. \u001b[0m\n"
     ]
    }
   ],
   "source": [
    "motpe_sampler = optuna.samplers.MOTPESampler()\n",
    "motpe_experiment = optuna.create_study(sampler=motpe_sampler, directions=[\"maximize\", \"minimize\"])\n",
    "motpe_experiment.optimize(train, n_trials=N_TRIAL)"
   ]
  },
  {
   "cell_type": "markdown",
   "id": "57c3752b",
   "metadata": {},
   "source": [
    "As a trade off to the flexibility of a define-by-run hyperparameter space, Optuna’s random search is suboptimal for problems with a fixed, non-dynamic hyperparameter space. Unlike Ax's use of Sobol random, Optuna uses the `numpy` RandomState class to generate independent samples from the parameter space. You can read more about the difference between these types of random sampling in our main blog post (TODO: link again (to the specific section))? \n",
    "\n",
    "However, generating an experiment with random sampling is as easy as changing the sampler!"
   ]
  },
  {
   "cell_type": "code",
   "execution_count": 9,
   "id": "convenient-closure",
   "metadata": {
    "scrolled": true
   },
   "outputs": [
    {
     "name": "stderr",
     "output_type": "stream",
     "text": [
      "\u001b[32m[I 2021-06-24 13:33:45,156]\u001b[0m A new study created in memory with name: no-name-f5ea743f-5351-4c94-bb3b-073cfc71208a\u001b[0m\n",
      "\u001b[32m[I 2021-06-24 13:33:45,526]\u001b[0m Trial 0 finished with values: [0.855, 0.3397219181060791] and parameters: {'n_layers': 1, 'layer_1_size': 5, 'alpha': 1.6583798916713135e-06, 'tol': 0.04131954057651528, 'beta_1': 0.03944237992080375, 'beta_2': 0.7740661460724664, 'learning_rate_init': 0.04852577351926202}. \u001b[0m\n",
      "\u001b[32m[I 2021-06-24 13:33:46,086]\u001b[0m Trial 1 finished with values: [0.8949999999999999, 0.5287368297576904] and parameters: {'n_layers': 1, 'layer_1_size': 42, 'alpha': 0.9963429830202633, 'tol': 0.09246280379558958, 'beta_1': 0.7195088193468046, 'beta_2': 0.29885617879226084, 'learning_rate_init': 0.06860857380535164}. \u001b[0m\n",
      "\u001b[32m[I 2021-06-24 13:33:46,747]\u001b[0m Trial 2 finished with values: [0.64, 0.623384952545166] and parameters: {'n_layers': 2, 'layer_1_size': 36, 'layer_2_size': 19, 'alpha': 3.1382750520930222e-06, 'tol': 0.008763082630036568, 'beta_1': 0.7933874414978763, 'beta_2': 0.32699564283576793, 'learning_rate_init': 0.00016543130829685916}. \u001b[0m\n",
      "\u001b[32m[I 2021-06-24 13:33:47,382]\u001b[0m Trial 3 finished with values: [0.505, 0.596613883972168] and parameters: {'n_layers': 2, 'layer_1_size': 20, 'layer_2_size': 31, 'alpha': 0.42397941653045, 'tol': 0.7581410178733912, 'beta_1': 0.373962412132173, 'beta_2': 0.6024219141589208, 'learning_rate_init': 1.8935334780803297e-06}. \u001b[0m\n",
      "\u001b[32m[I 2021-06-24 13:33:47,841]\u001b[0m Trial 4 finished with values: [0.5299999999999999, 0.43263888359069824] and parameters: {'n_layers': 1, 'layer_1_size': 22, 'alpha': 0.7236784657614748, 'tol': 0.6058590193629025, 'beta_1': 0.8490182333714608, 'beta_2': 0.49489308559283846, 'learning_rate_init': 0.00025438913324192535}. \u001b[0m\n",
      "\u001b[32m[I 2021-06-24 13:33:48,456]\u001b[0m Trial 5 finished with values: [0.92, 0.5632467269897461] and parameters: {'n_layers': 1, 'layer_1_size': 43, 'alpha': 0.005601695302365957, 'tol': 0.020153556066825066, 'beta_1': 0.8037899579284612, 'beta_2': 0.4189614188487681, 'learning_rate_init': 0.015437632775690668}. \u001b[0m\n",
      "\u001b[32m[I 2021-06-24 13:33:49,118]\u001b[0m Trial 6 finished with values: [0.5, 0.6153221130371094] and parameters: {'n_layers': 3, 'layer_1_size': 19, 'layer_2_size': 22, 'layer_3_size': 7, 'alpha': 0.2536664779941713, 'tol': 0.11306246065595354, 'beta_1': 0.22365200386713138, 'beta_2': 0.9722277568719978, 'learning_rate_init': 4.842107491111102e-05}. \u001b[0m\n",
      "\u001b[32m[I 2021-06-24 13:33:49,791]\u001b[0m Trial 7 finished with values: [0.5149999999999999, 0.6333682537078857] and parameters: {'n_layers': 2, 'layer_1_size': 7, 'layer_2_size': 41, 'alpha': 0.0004271872784203828, 'tol': 0.07664708651506831, 'beta_1': 0.9811908790685665, 'beta_2': 0.8259244904930456, 'learning_rate_init': 1.197868976673003e-05}. \u001b[0m\n",
      "/opt/anaconda3/envs/hpo/lib/python3.9/site-packages/sklearn/neural_network/_multilayer_perceptron.py:582: ConvergenceWarning: Stochastic Optimizer: Maximum iterations (200) reached and the optimization hasn't converged yet.\n",
      "  warnings.warn(\n",
      "\u001b[32m[I 2021-06-24 13:33:51,150]\u001b[0m Trial 8 finished with values: [0.9, 0.7186932563781738] and parameters: {'n_layers': 2, 'layer_1_size': 46, 'layer_2_size': 27, 'alpha': 0.005243706209133101, 'tol': 3.1614281193465674e-05, 'beta_1': 0.2909670167287171, 'beta_2': 0.8084795135185837, 'learning_rate_init': 0.0003413866228000295}. \u001b[0m\n",
      "\u001b[32m[I 2021-06-24 13:33:52,056]\u001b[0m Trial 9 finished with values: [0.4900000000000001, 0.8515229225158691] and parameters: {'n_layers': 3, 'layer_1_size': 10, 'layer_2_size': 37, 'layer_3_size': 41, 'alpha': 5.977067562977668e-06, 'tol': 0.0001858564972687893, 'beta_1': 0.2614030814174309, 'beta_2': 0.1554436285822663, 'learning_rate_init': 1.0954115984727397e-05}. \u001b[0m\n",
      "\u001b[32m[I 2021-06-24 13:33:53,506]\u001b[0m Trial 10 finished with values: [0.8200000000000001, 0.7752377986907959] and parameters: {'n_layers': 3, 'layer_1_size': 8, 'layer_2_size': 27, 'layer_3_size': 42, 'alpha': 0.0011728533397120265, 'tol': 0.0012326734934114524, 'beta_1': 0.5216284138903077, 'beta_2': 0.9119061996071103, 'learning_rate_init': 0.0007369021217116634}. \u001b[0m\n",
      "\u001b[32m[I 2021-06-24 13:33:54,541]\u001b[0m Trial 11 finished with values: [0.8550000000000002, 0.6994128227233887] and parameters: {'n_layers': 3, 'layer_1_size': 8, 'layer_2_size': 19, 'layer_3_size': 38, 'alpha': 0.5538325901691606, 'tol': 0.0007668619951854919, 'beta_1': 0.6712553151717879, 'beta_2': 0.5570377134596991, 'learning_rate_init': 0.004286934471615339}. \u001b[0m\n",
      "\u001b[32m[I 2021-06-24 13:33:55,494]\u001b[0m Trial 12 finished with values: [0.9149999999999999, 0.7734830379486084] and parameters: {'n_layers': 2, 'layer_1_size': 45, 'layer_2_size': 38, 'alpha': 0.10330475805355407, 'tol': 6.933829845186716e-05, 'beta_1': 0.5411549805754399, 'beta_2': 0.8261044700714064, 'learning_rate_init': 0.012836281190961819}. \u001b[0m\n",
      "\u001b[32m[I 2021-06-24 13:33:56,343]\u001b[0m Trial 13 finished with values: [0.91, 0.7191028594970703] and parameters: {'n_layers': 2, 'layer_1_size': 36, 'layer_2_size': 38, 'alpha': 0.00018293294356677486, 'tol': 0.0017038915001011785, 'beta_1': 0.25176497601454806, 'beta_2': 0.6017723593140502, 'learning_rate_init': 0.0036629996866074264}. \u001b[0m\n",
      "\u001b[32m[I 2021-06-24 13:33:56,800]\u001b[0m Trial 14 finished with values: [0.8799999999999999, 0.38059115409851074] and parameters: {'n_layers': 1, 'layer_1_size': 11, 'alpha': 0.0014559109594048342, 'tol': 1.4704417828771943e-05, 'beta_1': 0.8308062313058308, 'beta_2': 0.06619582670978796, 'learning_rate_init': 0.01818759455072945}. \u001b[0m\n",
      "\u001b[32m[I 2021-06-24 13:33:57,737]\u001b[0m Trial 15 finished with values: [0.54, 0.8825051784515381] and parameters: {'n_layers': 3, 'layer_1_size': 46, 'layer_2_size': 13, 'layer_3_size': 38, 'alpha': 0.0008155199557337989, 'tol': 0.9274263741709988, 'beta_1': 0.08628533951365917, 'beta_2': 0.22145158263462905, 'learning_rate_init': 2.111706618963953e-05}. \u001b[0m\n",
      "\u001b[32m[I 2021-06-24 13:33:58,112]\u001b[0m Trial 16 finished with values: [0.885, 0.34348392486572266] and parameters: {'n_layers': 1, 'layer_1_size': 5, 'alpha': 2.4437319186487103e-05, 'tol': 0.024847942502518868, 'beta_1': 0.08255665258506001, 'beta_2': 0.11759147669654614, 'learning_rate_init': 0.026362335735349265}. \u001b[0m\n",
      "\u001b[32m[I 2021-06-24 13:33:59,467]\u001b[0m Trial 17 finished with values: [0.8900000000000001, 1.0606257915496826] and parameters: {'n_layers': 3, 'layer_1_size': 39, 'layer_2_size': 42, 'layer_3_size': 49, 'alpha': 0.00012881218852591343, 'tol': 8.160713830729106e-05, 'beta_1': 0.7543338098522159, 'beta_2': 0.2882403890404505, 'learning_rate_init': 0.002015949676692678}. \u001b[0m\n",
      "/opt/anaconda3/envs/hpo/lib/python3.9/site-packages/sklearn/neural_network/_multilayer_perceptron.py:582: ConvergenceWarning: Stochastic Optimizer: Maximum iterations (200) reached and the optimization hasn't converged yet.\n",
      "  warnings.warn(\n",
      "\u001b[32m[I 2021-06-24 13:34:01,117]\u001b[0m Trial 18 finished with values: [0.71, 0.850836992263794] and parameters: {'n_layers': 3, 'layer_1_size': 38, 'layer_2_size': 37, 'layer_3_size': 19, 'alpha': 2.929803841476853e-05, 'tol': 2.463734430094916e-05, 'beta_1': 0.3163110539111522, 'beta_2': 0.8900123217662869, 'learning_rate_init': 2.8819353954641113e-05}. \u001b[0m\n",
      "/opt/anaconda3/envs/hpo/lib/python3.9/site-packages/sklearn/neural_network/_multilayer_perceptron.py:582: ConvergenceWarning: Stochastic Optimizer: Maximum iterations (200) reached and the optimization hasn't converged yet.\n",
      "  warnings.warn(\n",
      "\u001b[32m[I 2021-06-24 13:34:02,017]\u001b[0m Trial 19 finished with values: [0.55, 0.4279639720916748] and parameters: {'n_layers': 2, 'layer_1_size': 10, 'layer_2_size': 6, 'alpha': 1.991925800723186e-05, 'tol': 1.1108773191494136e-05, 'beta_1': 0.15620543788512337, 'beta_2': 0.23519189125732423, 'learning_rate_init': 4.0655131391347275e-05}. \u001b[0m\n",
      "/opt/anaconda3/envs/hpo/lib/python3.9/site-packages/sklearn/neural_network/_multilayer_perceptron.py:582: ConvergenceWarning: Stochastic Optimizer: Maximum iterations (200) reached and the optimization hasn't converged yet.\n",
      "  warnings.warn(\n",
      "\u001b[32m[I 2021-06-24 13:34:03,294]\u001b[0m Trial 20 finished with values: [0.8200000000000001, 0.6442630290985107] and parameters: {'n_layers': 3, 'layer_1_size': 2, 'layer_2_size': 13, 'layer_3_size': 36, 'alpha': 4.307738569153522e-06, 'tol': 4.512112322889721e-05, 'beta_1': 0.5507619382339853, 'beta_2': 0.5115341186797726, 'learning_rate_init': 0.001962163151533638}. \u001b[0m\n"
     ]
    },
    {
     "name": "stderr",
     "output_type": "stream",
     "text": [
      "\u001b[32m[I 2021-06-24 13:34:03,977]\u001b[0m Trial 21 finished with values: [0.875, 0.6066792011260986] and parameters: {'n_layers': 2, 'layer_1_size': 50, 'layer_2_size': 3, 'alpha': 0.0007933111984618153, 'tol': 0.04194318984051112, 'beta_1': 0.942039711044863, 'beta_2': 0.8655986481594887, 'learning_rate_init': 0.010487012710084159}. \u001b[0m\n",
      "/opt/anaconda3/envs/hpo/lib/python3.9/site-packages/sklearn/neural_network/_multilayer_perceptron.py:582: ConvergenceWarning: Stochastic Optimizer: Maximum iterations (200) reached and the optimization hasn't converged yet.\n",
      "  warnings.warn(\n",
      "\u001b[32m[I 2021-06-24 13:34:04,760]\u001b[0m Trial 22 finished with values: [0.55, 0.40920495986938477] and parameters: {'n_layers': 1, 'layer_1_size': 15, 'alpha': 0.08577432928050567, 'tol': 0.0005611833437950967, 'beta_1': 0.06544242583279844, 'beta_2': 0.1581465699036227, 'learning_rate_init': 2.9969661296918156e-05}. \u001b[0m\n",
      "\u001b[32m[I 2021-06-24 13:34:05,612]\u001b[0m Trial 23 finished with values: [0.5, 0.7926290035247803] and parameters: {'n_layers': 3, 'layer_1_size': 23, 'layer_2_size': 36, 'layer_3_size': 23, 'alpha': 0.010466850264954053, 'tol': 0.04290765902542515, 'beta_1': 0.03243343830273739, 'beta_2': 0.4603344337508877, 'learning_rate_init': 8.544154512593795e-06}. \u001b[0m\n",
      "\u001b[32m[I 2021-06-24 13:34:06,443]\u001b[0m Trial 24 finished with values: [0.855, 0.5007359981536865] and parameters: {'n_layers': 3, 'layer_1_size': 6, 'layer_2_size': 9, 'layer_3_size': 12, 'alpha': 0.0006435187074001271, 'tol': 0.00027602508229182467, 'beta_1': 0.5084413597862643, 'beta_2': 0.7393831583344864, 'learning_rate_init': 0.01198268847665325}. \u001b[0m\n",
      "\u001b[32m[I 2021-06-24 13:34:07,405]\u001b[0m Trial 25 finished with values: [0.54, 0.9010748863220215] and parameters: {'n_layers': 3, 'layer_1_size': 15, 'layer_2_size': 33, 'layer_3_size': 48, 'alpha': 0.051414799565382745, 'tol': 0.031764352247501806, 'beta_1': 0.9587544992783016, 'beta_2': 0.279442607486061, 'learning_rate_init': 1.5063970873016203e-05}. \u001b[0m\n",
      "\u001b[32m[I 2021-06-24 13:34:08,001]\u001b[0m Trial 26 finished with values: [0.43499999999999994, 0.5616238117218018] and parameters: {'n_layers': 1, 'layer_1_size': 42, 'alpha': 1.624737859599849e-05, 'tol': 0.26871842526274853, 'beta_1': 0.3456434949987803, 'beta_2': 0.7082101962847671, 'learning_rate_init': 2.9370582989984074e-06}. \u001b[0m\n",
      "/opt/anaconda3/envs/hpo/lib/python3.9/site-packages/sklearn/neural_network/_multilayer_perceptron.py:582: ConvergenceWarning: Stochastic Optimizer: Maximum iterations (200) reached and the optimization hasn't converged yet.\n",
      "  warnings.warn(\n",
      "\u001b[32m[I 2021-06-24 13:34:09,343]\u001b[0m Trial 27 finished with values: [0.5249999999999999, 0.681602954864502] and parameters: {'n_layers': 2, 'layer_1_size': 42, 'layer_2_size': 23, 'alpha': 0.03945676786130281, 'tol': 2.6246078981459565e-05, 'beta_1': 0.680397427899695, 'beta_2': 0.8567586133823424, 'learning_rate_init': 1.174314947044249e-06}. \u001b[0m\n",
      "\u001b[32m[I 2021-06-24 13:34:09,784]\u001b[0m Trial 28 finished with values: [0.49499999999999994, 0.4152200222015381] and parameters: {'n_layers': 1, 'layer_1_size': 16, 'alpha': 0.006768462925861922, 'tol': 0.00023298985248277273, 'beta_1': 0.5004547307104211, 'beta_2': 0.5001752932075587, 'learning_rate_init': 4.347504095107995e-06}. \u001b[0m\n",
      "/opt/anaconda3/envs/hpo/lib/python3.9/site-packages/sklearn/neural_network/_multilayer_perceptron.py:582: ConvergenceWarning: Stochastic Optimizer: Maximum iterations (200) reached and the optimization hasn't converged yet.\n",
      "  warnings.warn(\n",
      "\u001b[32m[I 2021-06-24 13:34:10,624]\u001b[0m Trial 29 finished with values: [0.86, 0.44705986976623535] and parameters: {'n_layers': 1, 'layer_1_size': 23, 'alpha': 1.3761938079642387e-06, 'tol': 0.0005408636825472867, 'beta_1': 0.4108202108882131, 'beta_2': 0.0616851861392132, 'learning_rate_init': 0.0001846989091908955}. \u001b[0m\n",
      "\u001b[32m[I 2021-06-24 13:34:11,240]\u001b[0m Trial 30 finished with values: [0.45999999999999996, 0.5760910511016846] and parameters: {'n_layers': 3, 'layer_1_size': 10, 'layer_2_size': 2, 'layer_3_size': 32, 'alpha': 0.024585381327682697, 'tol': 0.011048799096017222, 'beta_1': 0.5286940395655706, 'beta_2': 0.9532751026932333, 'learning_rate_init': 3.5289168173536404e-05}. \u001b[0m\n",
      "/opt/anaconda3/envs/hpo/lib/python3.9/site-packages/sklearn/neural_network/_multilayer_perceptron.py:582: ConvergenceWarning: Stochastic Optimizer: Maximum iterations (200) reached and the optimization hasn't converged yet.\n",
      "  warnings.warn(\n",
      "\u001b[32m[I 2021-06-24 13:34:12,710]\u001b[0m Trial 31 finished with values: [0.54, 0.7988591194152832] and parameters: {'n_layers': 2, 'layer_1_size': 48, 'layer_2_size': 33, 'alpha': 3.1409790082700724e-06, 'tol': 1.5694702780057205e-05, 'beta_1': 0.62638611404597, 'beta_2': 0.5432363605559006, 'learning_rate_init': 4.030006254008868e-06}. \u001b[0m\n",
      "/opt/anaconda3/envs/hpo/lib/python3.9/site-packages/sklearn/neural_network/_multilayer_perceptron.py:582: ConvergenceWarning: Stochastic Optimizer: Maximum iterations (200) reached and the optimization hasn't converged yet.\n",
      "  warnings.warn(\n",
      "\u001b[32m[I 2021-06-24 13:34:14,629]\u001b[0m Trial 32 finished with values: [0.8499999999999999, 1.0101428031921387] and parameters: {'n_layers': 3, 'layer_1_size': 17, 'layer_2_size': 43, 'layer_3_size': 50, 'alpha': 0.0020394733454806068, 'tol': 0.000737611371478881, 'beta_1': 0.6389748930474267, 'beta_2': 0.9579072617603983, 'learning_rate_init': 9.910534011134151e-05}. \u001b[0m\n",
      "/opt/anaconda3/envs/hpo/lib/python3.9/site-packages/sklearn/neural_network/_multilayer_perceptron.py:582: ConvergenceWarning: Stochastic Optimizer: Maximum iterations (200) reached and the optimization hasn't converged yet.\n",
      "  warnings.warn(\n",
      "\u001b[32m[I 2021-06-24 13:34:16,694]\u001b[0m Trial 33 finished with values: [0.6000000000000001, 1.119797945022583] and parameters: {'n_layers': 3, 'layer_1_size': 49, 'layer_2_size': 37, 'layer_3_size': 44, 'alpha': 0.002382387886025946, 'tol': 2.3265033409221653e-05, 'beta_1': 0.5456980326652223, 'beta_2': 0.8028561054219006, 'learning_rate_init': 1.5408055104570808e-05}. \u001b[0m\n",
      "\u001b[32m[I 2021-06-24 13:34:17,419]\u001b[0m Trial 34 finished with values: [0.46499999999999997, 0.6823008060455322] and parameters: {'n_layers': 2, 'layer_1_size': 9, 'layer_2_size': 41, 'alpha': 5.197871032815299e-06, 'tol': 0.34922065975912536, 'beta_1': 0.877987038234385, 'beta_2': 0.6764641425499057, 'learning_rate_init': 2.434850287289835e-05}. \u001b[0m\n",
      "/opt/anaconda3/envs/hpo/lib/python3.9/site-packages/sklearn/neural_network/_multilayer_perceptron.py:582: ConvergenceWarning: Stochastic Optimizer: Maximum iterations (200) reached and the optimization hasn't converged yet.\n",
      "  warnings.warn(\n",
      "\u001b[32m[I 2021-06-24 13:34:19,249]\u001b[0m Trial 35 finished with values: [0.685, 0.9688162803649902] and parameters: {'n_layers': 3, 'layer_1_size': 41, 'layer_2_size': 17, 'layer_3_size': 46, 'alpha': 0.06446830412773256, 'tol': 4.4446477484800655e-05, 'beta_1': 0.5284062936253946, 'beta_2': 0.4034825970274928, 'learning_rate_init': 2.4954707549228485e-05}. \u001b[0m\n",
      "\u001b[32m[I 2021-06-24 13:34:19,936]\u001b[0m Trial 36 finished with values: [0.5, 0.642056941986084] and parameters: {'n_layers': 2, 'layer_1_size': 49, 'layer_2_size': 5, 'alpha': 7.484642780385038e-05, 'tol': 0.8026983711041319, 'beta_1': 0.8211770620959823, 'beta_2': 0.009330230528697806, 'learning_rate_init': 0.016142827887176994}. \u001b[0m\n",
      "/opt/anaconda3/envs/hpo/lib/python3.9/site-packages/sklearn/neural_network/_multilayer_perceptron.py:582: ConvergenceWarning: Stochastic Optimizer: Maximum iterations (200) reached and the optimization hasn't converged yet.\n",
      "  warnings.warn(\n",
      "\u001b[32m[I 2021-06-24 13:34:21,142]\u001b[0m Trial 37 finished with values: [0.76, 0.6158819198608398] and parameters: {'n_layers': 2, 'layer_1_size': 15, 'layer_2_size': 29, 'alpha': 0.5474988526548683, 'tol': 1.0787805202803713e-05, 'beta_1': 0.5157074397897745, 'beta_2': 0.5623035298482, 'learning_rate_init': 5.98508726436748e-05}. \u001b[0m\n",
      "\u001b[32m[I 2021-06-24 13:34:21,798]\u001b[0m Trial 38 finished with values: [0.91, 0.615792989730835] and parameters: {'n_layers': 1, 'layer_1_size': 44, 'alpha': 0.19102495225479055, 'tol': 0.050634509376439665, 'beta_1': 0.2722178227605082, 'beta_2': 0.42512133521713275, 'learning_rate_init': 0.02664631455679372}. \u001b[0m\n",
      "\u001b[32m[I 2021-06-24 13:34:22,475]\u001b[0m Trial 39 finished with values: [0.85, 0.6206238269805908] and parameters: {'n_layers': 2, 'layer_1_size': 6, 'layer_2_size': 35, 'alpha': 4.3534383191541425e-05, 'tol': 0.07000379573442753, 'beta_1': 0.19834320285948503, 'beta_2': 0.2658104205179576, 'learning_rate_init': 0.010038140134207767}. \u001b[0m\n"
     ]
    },
    {
     "name": "stderr",
     "output_type": "stream",
     "text": [
      "\u001b[32m[I 2021-06-24 13:34:23,036]\u001b[0m Trial 40 finished with values: [0.6000000000000001, 0.5281221866607666] and parameters: {'n_layers': 1, 'layer_1_size': 35, 'alpha': 0.0012641283486926052, 'tol': 0.9282753886154791, 'beta_1': 0.37774095460471235, 'beta_2': 0.6407286452574744, 'learning_rate_init': 1.977844210971094e-06}. \u001b[0m\n",
      "\u001b[32m[I 2021-06-24 13:34:23,420]\u001b[0m Trial 41 finished with values: [0.485, 0.35796308517456055] and parameters: {'n_layers': 1, 'layer_1_size': 5, 'alpha': 1.3989383647500107e-05, 'tol': 0.038166776868459595, 'beta_1': 0.5631958946498815, 'beta_2': 0.6935417098351765, 'learning_rate_init': 3.241404263654068e-06}. \u001b[0m\n",
      "\u001b[32m[I 2021-06-24 13:34:24,553]\u001b[0m Trial 42 finished with values: [0.8900000000000001, 0.9083409309387207] and parameters: {'n_layers': 3, 'layer_1_size': 27, 'layer_2_size': 26, 'layer_3_size': 34, 'alpha': 1.123847998137992e-05, 'tol': 0.0018205660184223804, 'beta_1': 0.3326677975728737, 'beta_2': 0.1256364390286232, 'learning_rate_init': 0.0017725719114662698}. \u001b[0m\n",
      "\u001b[32m[I 2021-06-24 13:34:25,490]\u001b[0m Trial 43 finished with values: [0.6749999999999999, 0.7808301448822021] and parameters: {'n_layers': 3, 'layer_1_size': 5, 'layer_2_size': 27, 'layer_3_size': 36, 'alpha': 0.0047016429006261524, 'tol': 0.0033275855653821618, 'beta_1': 0.05521239988246544, 'beta_2': 0.6501295018857687, 'learning_rate_init': 0.00034545741656327045}. \u001b[0m\n",
      "\u001b[32m[I 2021-06-24 13:34:26,138]\u001b[0m Trial 44 finished with values: [0.48, 0.6123931407928467] and parameters: {'n_layers': 1, 'layer_1_size': 45, 'alpha': 0.0005374729355163436, 'tol': 0.043896199593101065, 'beta_1': 0.6546103631566926, 'beta_2': 0.8335106441103929, 'learning_rate_init': 8.869773707109956e-06}. \u001b[0m\n",
      "\u001b[32m[I 2021-06-24 13:34:26,974]\u001b[0m Trial 45 finished with values: [0.4650000000000001, 0.7866928577423096] and parameters: {'n_layers': 2, 'layer_1_size': 45, 'layer_2_size': 28, 'alpha': 2.8588588882050116e-05, 'tol': 0.12825741154825399, 'beta_1': 0.0035546165875830382, 'beta_2': 0.04155368415087471, 'learning_rate_init': 4.670885073758701e-05}. \u001b[0m\n",
      "\u001b[32m[I 2021-06-24 13:34:27,541]\u001b[0m Trial 46 finished with values: [0.875, 0.4715080261230469] and parameters: {'n_layers': 1, 'layer_1_size': 16, 'alpha': 0.05035684906215516, 'tol': 0.00487310448019807, 'beta_1': 0.39122115729730395, 'beta_2': 0.835814075922457, 'learning_rate_init': 0.002753535093979246}. \u001b[0m\n",
      "\u001b[32m[I 2021-06-24 13:34:28,735]\u001b[0m Trial 47 finished with values: [0.8299999999999998, 1.0442109107971191] and parameters: {'n_layers': 3, 'layer_1_size': 17, 'layer_2_size': 44, 'layer_3_size': 50, 'alpha': 0.009609284111752372, 'tol': 0.015018481272420114, 'beta_1': 0.37690607974052004, 'beta_2': 0.08525260827450304, 'learning_rate_init': 0.0008199363166659755}. \u001b[0m\n",
      "/opt/anaconda3/envs/hpo/lib/python3.9/site-packages/sklearn/neural_network/_multilayer_perceptron.py:582: ConvergenceWarning: Stochastic Optimizer: Maximum iterations (200) reached and the optimization hasn't converged yet.\n",
      "  warnings.warn(\n",
      "\u001b[32m[I 2021-06-24 13:34:30,319]\u001b[0m Trial 48 finished with values: [0.905, 0.8430337905883789] and parameters: {'n_layers': 2, 'layer_1_size': 37, 'layer_2_size': 45, 'alpha': 0.10612273808327918, 'tol': 3.3620762652058e-05, 'beta_1': 0.6713143528457702, 'beta_2': 0.40658339286182416, 'learning_rate_init': 0.0004215816010897672}. \u001b[0m\n",
      "/opt/anaconda3/envs/hpo/lib/python3.9/site-packages/sklearn/neural_network/_multilayer_perceptron.py:582: ConvergenceWarning: Stochastic Optimizer: Maximum iterations (200) reached and the optimization hasn't converged yet.\n",
      "  warnings.warn(\n",
      "\u001b[32m[I 2021-06-24 13:34:31,187]\u001b[0m Trial 49 finished with values: [0.475, 0.46172499656677246] and parameters: {'n_layers': 1, 'layer_1_size': 18, 'alpha': 1.3407717747060347e-05, 'tol': 2.833612831697428e-05, 'beta_1': 0.598225759514398, 'beta_2': 0.6857723167686244, 'learning_rate_init': 1.2381650680544528e-06}. \u001b[0m\n",
      "/opt/anaconda3/envs/hpo/lib/python3.9/site-packages/sklearn/neural_network/_multilayer_perceptron.py:582: ConvergenceWarning: Stochastic Optimizer: Maximum iterations (200) reached and the optimization hasn't converged yet.\n",
      "  warnings.warn(\n",
      "\u001b[32m[I 2021-06-24 13:34:32,722]\u001b[0m Trial 50 finished with values: [0.505, 0.7949621677398682] and parameters: {'n_layers': 3, 'layer_1_size': 4, 'layer_2_size': 35, 'layer_3_size': 25, 'alpha': 0.299573687157635, 'tol': 2.5987417662356293e-05, 'beta_1': 0.7330778867852773, 'beta_2': 0.6078188681395581, 'learning_rate_init': 9.170306610311602e-06}. \u001b[0m\n",
      "\u001b[32m[I 2021-06-24 13:34:33,422]\u001b[0m Trial 51 finished with values: [0.55, 0.6555390357971191] and parameters: {'n_layers': 3, 'layer_1_size': 4, 'layer_2_size': 36, 'layer_3_size': 5, 'alpha': 4.883106191941164e-05, 'tol': 0.023259746876049123, 'beta_1': 0.8746642547164667, 'beta_2': 0.4758580715642077, 'learning_rate_init': 9.688075251402541e-06}. \u001b[0m\n",
      "\u001b[32m[I 2021-06-24 13:34:33,813]\u001b[0m Trial 52 finished with values: [0.395, 0.36202383041381836] and parameters: {'n_layers': 1, 'layer_1_size': 7, 'alpha': 2.25192461437767e-06, 'tol': 0.04401127662912664, 'beta_1': 0.9129755595332987, 'beta_2': 0.21240965455242183, 'learning_rate_init': 4.335062761351774e-05}. \u001b[0m\n",
      "\u001b[32m[I 2021-06-24 13:34:34,320]\u001b[0m Trial 53 finished with values: [0.44000000000000006, 0.473236083984375] and parameters: {'n_layers': 1, 'layer_1_size': 27, 'alpha': 0.01643970382856014, 'tol': 0.002741058586533343, 'beta_1': 0.5990453920419062, 'beta_2': 0.20520586612661593, 'learning_rate_init': 7.337546198419339e-06}. \u001b[0m\n",
      "\u001b[32m[I 2021-06-24 13:34:35,326]\u001b[0m Trial 54 finished with values: [0.45999999999999996, 0.9478251934051514] and parameters: {'n_layers': 3, 'layer_1_size': 6, 'layer_2_size': 48, 'layer_3_size': 44, 'alpha': 0.14520299591564892, 'tol': 0.04787757788198888, 'beta_1': 0.3836450839555026, 'beta_2': 0.33950105302325123, 'learning_rate_init': 2.6012407491351593e-05}. \u001b[0m\n"
     ]
    }
   ],
   "source": [
    "random_sampler = optuna.samplers.RandomSampler()\n",
    "random_experiment = optuna.create_study(sampler=random_sampler, directions=[\"maximize\", \"minimize\"])\n",
    "random_experiment.optimize(train, n_trials=N_TRIAL, timeout=300)"
   ]
  },
  {
   "cell_type": "markdown",
   "id": "16588446",
   "metadata": {},
   "source": [
    "We provide a helper function that casts the output of the Optuna experiments into an easier-to-read format. "
   ]
  },
  {
   "cell_type": "code",
   "execution_count": 10,
   "id": "9bc65590",
   "metadata": {},
   "outputs": [],
   "source": [
    "# Helper function that \n",
    "def cast_as_df(optuna_experiment, experiment_type):\n",
    "    df = (\n",
    "        optuna_experiment\n",
    "        .trials_dataframe()\n",
    "        .rename(columns={\"values_0\": \"auprc\", \"values_1\": \"latency\"})\n",
    "        .assign(experiment = experiment_type)\n",
    "    )\n",
    "    # the following lines create a column identifing which of the trials resulted in a\n",
    "    # Best configuration -- a model with these HPs lies along the empirical Pareto frontier\n",
    "    best_trials = [trial.number for trial in optuna_experiment.best_trials]\n",
    "    df['best_trial'] = np.where(df.number.isin(best_trials), 1, 0)\n",
    "    return df"
   ]
  },
  {
   "cell_type": "code",
   "execution_count": 11,
   "id": "1d7e3ab7",
   "metadata": {},
   "outputs": [],
   "source": [
    "motpe_df = cast_as_df(motpe_experiment, \"MOTPE\")\n",
    "random_df = cast_as_df(random_experiment, \"Random\")"
   ]
  },
  {
   "cell_type": "markdown",
   "id": "72781110",
   "metadata": {},
   "source": [
    "## Visualize Results\n",
    "\n",
    "We can visually compare the results of MOPTE and random sampling. We want to see a Pareto frontier of points in the lower right corner of the chart - points with the highest accuracy and lowest latency possible."
   ]
  },
  {
   "cell_type": "code",
   "execution_count": 12,
   "id": "mineral-centre",
   "metadata": {
    "scrolled": true
   },
   "outputs": [
    {
     "name": "stderr",
     "output_type": "stream",
     "text": [
      "<ipython-input-12-2d3c23fbdebc>:16: UserWarning: Matplotlib is currently using module://ipykernel.pylab.backend_inline, which is a non-GUI backend, so cannot show the figure.\n",
      "  fig.show()\n"
     ]
    },
    {
     "data": {
      "image/png": "[encoded data removed]",
      "text/plain": [
       "<Figure size 1152x288 with 3 Axes>"
      ]
     },
     "metadata": {
      "needs_background": "light"
     },
     "output_type": "display_data"
    }
   ],
   "source": [
    "fig, axs = plt.subplots(1, 3, sharey=True, figsize=(16,4))\n",
    "axs[0].scatter(motpe_df.auprc, motpe_df.latency, alpha=0.6, label=motpe_df.experiment[0])\n",
    "axs[0].scatter(random_df.auprc, random_df.latency, alpha=0.6, label=random_df.experiment[0])\n",
    "axs[0].legend()\n",
    "axs[0].set_title(\"Comparison\")\n",
    "\n",
    "axs[1].scatter(motpe_df.auprc, motpe_df.latency, alpha=0.6, c=motpe_df.number)\n",
    "axs[1].set_title(motpe_df.experiment[0])\n",
    "\n",
    "axs[2].scatter(random_df.auprc, random_df.latency, alpha=0.6, c=random_df.number)\n",
    "axs[2].set_title(random_df.experiment[0])\n",
    "\n",
    "for ax in axs.flat:\n",
    "    ax.set(xlabel=\"AUC\", ylabel=\"Latency (1 million points)\")\n",
    "\n",
    "fig.show()"
   ]
  },
  {
   "cell_type": "markdown",
   "id": "cd5e6446",
   "metadata": {},
   "source": [
    "The leftmost panel shows a comparison of the two experiments, while the middle and right panels show each experiment individually, with their points colored according to the order in which the trials were run. Notice in the MOTPE panel that earlier trials (purple points) are scattered about (reflecting the initialization phase), while later trials (yellow points) have honed in on the Pareto frontier. The same cannot be said for the random experiment, which samples randomly for all trials. \n",
    "\n",
    "Because we generated the dataset randomly, and initialized the sampling randomly, it's likely your results differ from ours (we could of course have mitigated this by fixing seeds for the random number generators, but we're very wary of cherry-picking good results, and wanted to encourage some exploration)!  If you've already taken a look at our similar [tutorial using the Ax library](https://github.com/fastforwardlabs/multi-objective-hyperparameter-optimization/tree/master/ax-on-synthetic-data), you might notice that MOTPE and Random are often far more separated than Sobol vs qEVHI in that notebook. While a host of factors contribute to why, we'll mention two explicitly:\n",
    "1. MOTPE's tree-structured surrogate model (rather than the GP surrogate model used by the Ax library) is likely better suited for hierarchical hyperparameter spaces like that explored here\n",
    "2. Not all random sampling is equal: Sobol random sampling (in the Ax notebook) provides better coverage than pseudo-random sampling (in this notebook) over fixed hyperparamter spaces.  \n",
    "\n",
    "\n",
    "With that said, here's an example of one of the more impressive results we obtained, specifically chosen for its spectacular separation of the MOTPE trials and the random trials. Multi-objective Bayesian optimization found a host of models that are faster _and_ more accurate than random search found!\n",
    " \n",
    "![A pretty great result for MOTPE](images/optuna-for-hpo-great.png)\n",
    "\n",
    "But sometimes, even when MOTPE performs better, it's not always clear why. For example, in the figure below, MOTPE unequivocally better samples the Pareto frontier, but if we look at the order in which those trials were run, these Pareto-esque points were found very early in the optimization (dark purple) and then the algorithm moved _away_ from the Pareto frontier in the remaining trials, as indicated by the yellow points being scattered all over. So we might just have got lucky this time. \n",
    "\n",
    "![A strange result for MOTPE](images/optuna-for-hpo-huh.png)\n",
    "\n",
    " \n"
   ]
  },
  {
   "cell_type": "code",
   "execution_count": null,
   "id": "85c93838",
   "metadata": {},
   "outputs": [],
   "source": []
  }
 ],
 "metadata": {
  "@webio": {
   "lastCommId": null,
   "lastKernelId": null
  },
  "kernelspec": {
   "display_name": "Python 3",
   "language": "python",
   "name": "python3"
  },
  "language_info": {
   "codemirror_mode": {
    "name": "ipython",
    "version": 3
   },
   "file_extension": ".py",
   "mimetype": "text/x-python",
   "name": "python",
   "nbconvert_exporter": "python",
   "pygments_lexer": "ipython3",
   "version": "3.8.2"
  }
 },
 "nbformat": 4,
 "nbformat_minor": 5
}
